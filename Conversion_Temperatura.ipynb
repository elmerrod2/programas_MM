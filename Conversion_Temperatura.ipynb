{
  "nbformat": 4,
  "nbformat_minor": 0,
  "metadata": {
    "colab": {
      "provenance": [],
      "authorship_tag": "ABX9TyP0TAPCmfyvDSeSTEJL08dC",
      "include_colab_link": true
    },
    "kernelspec": {
      "name": "python3",
      "display_name": "Python 3"
    },
    "language_info": {
      "name": "python"
    }
  },
  "cells": [
    {
      "cell_type": "markdown",
      "metadata": {
        "id": "view-in-github",
        "colab_type": "text"
      },
      "source": [
        "<a href=\"https://colab.research.google.com/github/elmerrod2/programas_MM/blob/main/Conversion_Temperatura.ipynb\" target=\"_parent\"><img src=\"https://colab.research.google.com/assets/colab-badge.svg\" alt=\"Open In Colab\"/></a>"
      ]
    },
    {
      "cell_type": "code",
      "execution_count": 1,
      "metadata": {
        "colab": {
          "base_uri": "https://localhost:8080/"
        },
        "id": "rdsZBm7JY2ia",
        "outputId": "a3dfce19-7161-4993-f804-f6b827bbe13d"
      },
      "outputs": [
        {
          "output_type": "stream",
          "name": "stdout",
          "text": [
            "100.5 grados Fahrenheit es 38.06 grados centigrados \n"
          ]
        }
      ],
      "source": [
        "# Solución\n",
        "cent=round(5/9*(100.5-32),2)\n",
        "print(f\"100.5 grados Fahrenheit es {cent} grados centigrados \")"
      ]
    }
  ]
}